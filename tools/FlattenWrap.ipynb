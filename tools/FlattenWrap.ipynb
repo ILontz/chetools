{
  "nbformat": 4,
  "nbformat_minor": 0,
  "metadata": {
    "colab": {
      "name": "FlattenWrap.ipynb",
      "provenance": [],
      "collapsed_sections": [],
      "authorship_tag": "ABX9TyNJMEPan8oEfu6i3Ixi2HSJ",
      "include_colab_link": true
    },
    "kernelspec": {
      "name": "python3",
      "display_name": "Python 3"
    },
    "language_info": {
      "name": "python"
    }
  },
  "cells": [
    {
      "cell_type": "markdown",
      "metadata": {
        "id": "view-in-github",
        "colab_type": "text"
      },
      "source": [
        "<a href=\"https://colab.research.google.com/github/profteachkids/chetools/blob/main/tools/FlattenWrap.ipynb\" target=\"_parent\"><img src=\"https://colab.research.google.com/assets/colab-badge.svg\" alt=\"Open In Colab\"/></a>"
      ]
    },
    {
      "cell_type": "code",
      "execution_count": null,
      "metadata": {
        "id": "EQTOJoLTGQgb"
      },
      "outputs": [],
      "source": [
        "from collections import namedtuple\n",
        "import numpy as np\n",
        "from scipy.special import expit,logit\n",
        "from functools import partial"
      ]
    },
    {
      "cell_type": "code",
      "source": [
        "class DotDict(dict):\n",
        "    __getattr__= dict.__getitem__\n",
        "    __setattr__ = dict.__setitem__\n",
        "    __delattr__ = dict.__delitem__"
      ],
      "metadata": {
        "id": "fbMr0sbAYbzh"
      },
      "execution_count": null,
      "outputs": []
    },
    {
      "cell_type": "code",
      "source": [
        "class Unk():\n",
        "    pass\n",
        "\n",
        "class Range(Unk):\n",
        "    def __init__(self,value,lo,hi):\n",
        "        self.lo=lo\n",
        "        self.hi=hi\n",
        "        self.diff = hi-lo\n",
        "        self.x=value\n",
        "        self.shape=(1,)\n",
        "        self.size = 1\n",
        "\n",
        "    def flatten(self):\n",
        "        return np.ravel(logit((self.x-self.lo)/self.diff))\n",
        "\n",
        "    def unflatten(self,xx):\n",
        "        return np.squeeze(expit(xx)*self.diff +self.lo)\n",
        "\n",
        "\n",
        "class RangeArray(Unk):\n",
        "    def __init__(self,value,lo,hi):\n",
        "        self.lo=np.atleast_1d(lo)\n",
        "        self.hi=np.atleast_1d(hi)\n",
        "        self.diff = self.hi-self.lo\n",
        "        value = np.atleast_1d(value)\n",
        "        self.x = value\n",
        "        self.shape = value.shape\n",
        "        self.size = value.size\n",
        "\n",
        "    def flatten(self):\n",
        "        return np.ravel(logit((self.x-self.lo)/self.diff))\n",
        "\n",
        "    def unflatten(self,xx):\n",
        "        return expit(xx.reshape(self.shape))*self.diff +self.lo\n",
        "\n",
        "class Comp(Unk):\n",
        "    def __init__(self,value):\n",
        "        self.x=np.asarray(value).reshape(-1)\n",
        "        self.x=self.x/np.sum(self.x)\n",
        "        self.size=self.x.size - 1\n",
        "\n",
        "    def __repr__(self):\n",
        "        return f'{self.x}'\n",
        "\n",
        "    def flatten(self):\n",
        "        return np.log(self.x[:-1]) + np.log(1.+ (1. - self.x[-1])/self.x[-1])\n",
        "\n",
        "\n",
        "    def unflatten(self,xx):\n",
        "        xm1 = np.exp(xx)/(1+np.sum(np.exp(xx)))\n",
        "        return np.concatenate((xm1, np.atleast_1d(1.-np.sum(xm1))))\n",
        "\n",
        "class CompArray(Unk):\n",
        "    def __init__(self,value):\n",
        "        self.x=value\n",
        "        self.x=self.x/np.sum(self.x,axis=1).reshape(-1,1)\n",
        "        self.nrows,self.ncols = self.x.shape\n",
        "        self.size=self.x.size - self.nrows\n",
        "\n",
        "    def __repr__(self):\n",
        "        return f'{self.x}'\n",
        "\n",
        "    def flatten(self):\n",
        "        return np.ravel(np.log(self.x[:,:-1]) + np.log(1.+ (1. - self.x[:,-1])/self.x[:,-1]).reshape(-1,1))\n",
        "\n",
        "\n",
        "    def unflatten(self,xx):\n",
        "        xx=xx.reshape(self.nrows,self.ncols-1)\n",
        "        xm1 = np.exp(xx)/(1+np.sum(np.exp(xx),axis=1).reshape(-1,1))\n",
        "        return np.c_[xm1, 1.-np.sum(xm1,axis=1)]\n",
        "\n"
      ],
      "metadata": {
        "id": "cp73yAkZcuBc"
      },
      "execution_count": null,
      "outputs": []
    },
    {
      "cell_type": "code",
      "source": [
        "Unk_Tuple = namedtuple('Unk_Tuple', ['keys', 'start', 'end', 'unk'])\n",
        "\n",
        "def dtox(d):\n",
        "    d2=DotDict()\n",
        "    pos=0\n",
        "    unks={}\n",
        "    functions={}\n",
        "\n",
        "    for k,v in d.items():\n",
        "        idv = id(v)\n",
        "        if idv in unks:\n",
        "            unks[idv].keys.append(k)\n",
        "        elif isinstance(v,Unk):\n",
        "            unks[idv]=Unk_Tuple([k], pos, pos+v.size, v)\n",
        "            pos+=v.size\n",
        "        elif callable(v):\n",
        "            functions[k]=v\n",
        "        else:\n",
        "            d2[k]=v\n",
        "\n",
        "    x = np.zeros(pos)\n",
        "    for k,v in unks.items():\n",
        "        x[v.start:v.end]= v.unk.flatten()\n",
        "            \n",
        "    def xtod(x,d2):\n",
        "        for k,v in unks.items():\n",
        "            unflattened = v.unk.unflatten(x[v.start:v.end])\n",
        "            for key in v.keys:\n",
        "                d2[key]=unflattened\n",
        "\n",
        "        for k,f in functions.items():\n",
        "            d2[k]=f(d2)\n",
        "        return d2\n",
        "\n",
        "    def xtodunk(x):\n",
        "        dunk=DotDict()\n",
        "        for k,v in unks.items():\n",
        "            unflattened = v.unk.unflatten(x[v.start:v.end])\n",
        "            for key in v.keys:\n",
        "                dunk[key]=unflattened\n",
        "        return dunk\n",
        "\n",
        "    def wrap(f):\n",
        "        def wrapped(x,d2):\n",
        "            d2=xtod(x,d2)\n",
        "            res=f(d2)\n",
        "            return res[0] if type(res) in (tuple,list) else res\n",
        "\n",
        "        return partial(wrapped,d2=d2)\n",
        "\n",
        "    d2=xtod(x,d2)\n",
        "    return wrap, np.asarray(x), d2, xtod, xtodunk"
      ],
      "metadata": {
        "id": "w4zo9wd3Fa_s"
      },
      "execution_count": null,
      "outputs": []
    },
    {
      "cell_type": "code",
      "source": [
        "d = DotDict()\n",
        "d.range1 = Range(10., 0., 50.)\n",
        "d.range_array = RangeArray([5., 12., 24.], 0., [10., 20., 30.])\n",
        "d.comp1 = Comp([0.1, 0.2, 0.3, 0.4])\n",
        "d.comp_array = CompArray(np.tile(np.array([0.1, 0.2, 0.7]), (4,1)))\n",
        "d.const = np.array([3., 5.])\n",
        "d.repeat = d.range_array\n",
        "d.combo = lambda e: np.vstack([e.const, e.comp1[:2]])"
      ],
      "metadata": {
        "id": "Cnx187RsGSM5"
      },
      "execution_count": null,
      "outputs": []
    },
    {
      "cell_type": "code",
      "source": [
        "wrap, x, d2, xtod, xtodunk = dtox(d)"
      ],
      "metadata": {
        "id": "5YsornVDId9_"
      },
      "execution_count": null,
      "outputs": []
    },
    {
      "cell_type": "code",
      "source": [
        "d2"
      ],
      "metadata": {
        "colab": {
          "base_uri": "https://localhost:8080/"
        },
        "id": "5q8shF4WJKiF",
        "outputId": "2bafed66-8b69-48d3-8924-4eb0bcb6fd96"
      },
      "execution_count": null,
      "outputs": [
        {
          "output_type": "execute_result",
          "data": {
            "text/plain": [
              "{'combo': array([[3. , 5. ],\n",
              "        [0.1, 0.2]]),\n",
              " 'comp1': array([0.1, 0.2, 0.3, 0.4]),\n",
              " 'comp_array': array([[0.1, 0.2, 0.7],\n",
              "        [0.1, 0.2, 0.7],\n",
              "        [0.1, 0.2, 0.7],\n",
              "        [0.1, 0.2, 0.7]]),\n",
              " 'const': array([3., 5.]),\n",
              " 'range1': array(10.),\n",
              " 'range_array': array([ 5., 12., 24.]),\n",
              " 'repeat': array([ 5., 12., 24.])}"
            ]
          },
          "metadata": {},
          "execution_count": 45
        }
      ]
    },
    {
      "cell_type": "code",
      "source": [
        "d2.combo"
      ],
      "metadata": {
        "id": "IzJCO1EmJPSe",
        "outputId": "db776cff-1630-4d20-ddd1-537c4daec456",
        "colab": {
          "base_uri": "https://localhost:8080/"
        }
      },
      "execution_count": null,
      "outputs": [
        {
          "output_type": "execute_result",
          "data": {
            "text/plain": [
              "{'combo': {...},\n",
              " 'comp1': array([0.1, 0.2, 0.3, 0.4]),\n",
              " 'comp_array': array([[0.1, 0.2, 0.7],\n",
              "        [0.1, 0.2, 0.7],\n",
              "        [0.1, 0.2, 0.7],\n",
              "        [0.1, 0.2, 0.7]]),\n",
              " 'const': array([3., 5.]),\n",
              " 'range1': array(10.),\n",
              " 'range_array': array([ 5., 12., 24.]),\n",
              " 'repeat': array([ 5., 12., 24.])}"
            ]
          },
          "metadata": {},
          "execution_count": 25
        }
      ]
    },
    {
      "cell_type": "code",
      "source": [
        ""
      ],
      "metadata": {
        "id": "RJjoaafOTpGT"
      },
      "execution_count": null,
      "outputs": []
    }
  ]
}