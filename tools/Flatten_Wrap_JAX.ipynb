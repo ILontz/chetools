{
  "nbformat": 4,
  "nbformat_minor": 0,
  "metadata": {
    "colab": {
      "name": "Flatten_Wrap_JAX.ipynb",
      "provenance": [],
      "authorship_tag": "ABX9TyMPUaru9hgmjtTMzpV9zgec",
      "include_colab_link": true
    },
    "kernelspec": {
      "name": "python3",
      "display_name": "Python 3"
    },
    "language_info": {
      "name": "python"
    }
  },
  "cells": [
    {
      "cell_type": "markdown",
      "metadata": {
        "id": "view-in-github",
        "colab_type": "text"
      },
      "source": [
        "<a href=\"https://colab.research.google.com/github/profteachkids/chetools/blob/main/tools/Flatten_Wrap_JAX.ipynb\" target=\"_parent\"><img src=\"https://colab.research.google.com/assets/colab-badge.svg\" alt=\"Open In Colab\"/></a>"
      ]
    },
    {
      "cell_type": "code",
      "execution_count": 1,
      "metadata": {
        "id": "8E_EuQc8GgtH"
      },
      "outputs": [],
      "source": [
        "import numpy as np\n",
        "import jax\n",
        "import jax.numpy as jnp\n",
        "from jax.scipy.special import logit, expit\n",
        "from collections import namedtuple"
      ]
    },
    {
      "cell_type": "code",
      "source": [
        "class DotDict(dict):\n",
        "    __getattr__= dict.__getitem__\n",
        "    __setattr__ = dict.__setitem__\n",
        "    __delattr__ = dict.__delitem__\n",
        "\n",
        "Unk = namedtuple('Unk', 'x flatten unflatten size_flat size_unflat, shape start end')"
      ],
      "metadata": {
        "id": "ojIjXYkoimvu"
      },
      "execution_count": 2,
      "outputs": []
    },
    {
      "cell_type": "code",
      "source": [
        "def range(val, lo, hi):\n",
        "\n",
        "    diff = hi - lo\n",
        "\n",
        "    def flatten(x):\n",
        "        return jnp.ravel(logit((x-lo)/diff))\n",
        "\n",
        "    def unflatten(x):\n",
        "        return jnp.squeeze(expit(x)*diff + lo)\n",
        "\n",
        "    return Unk(x=val, flatten=flatten, unflatten=unflatten, size_flat=1, size_unflat=1, shape=(), start=None, end=None )\n",
        "\n",
        "def range_array(val, lo, hi):\n",
        "\n",
        "    lo=jnp.atleast_1d(lo)\n",
        "    hi=jnp.atleast_1d(hi)\n",
        "    diff = hi-lo\n",
        "    val = jnp.atleast_1d(val)\n",
        "    shape = val.shape\n",
        "\n",
        "    def flatten(x):\n",
        "        return jnp.ravel(logit((x-lo)/diff))\n",
        "\n",
        "    def unflatten(x):\n",
        "        return expit(x.reshape(shape))*diff +lo\n",
        "\n",
        "    return Unk(x=val, flatten=flatten, unflatten=unflatten, size_flat=val.size, size_unflat=val.size, shape=shape, start=None, end=None )\n",
        "\n",
        "def comp(val):\n",
        "\n",
        "    val = jnp.asarray(val)\n",
        "    sum = jnp.sum(val)\n",
        "\n",
        "    def flatten(x):\n",
        "        x = x/sum\n",
        "        return jnp.log(x[:-1]) + jnp.log(1.+ (1. - x[-1])/x[-1])\n",
        "\n",
        "\n",
        "    def unflatten(x):\n",
        "        xm1 = jnp.exp(x)/(1+jnp.sum(jnp.exp(x)))\n",
        "        return sum*jnp.concatenate((xm1, jnp.atleast_1d(1.-jnp.sum(xm1))))\n",
        "\n",
        "    return Unk(x=val, flatten=flatten, unflatten=unflatten, size_flat=val.size-1, size_unflat=val.size, shape=(val.size), start=None, end=None )\n",
        "\n",
        "def comp_array(val):\n",
        "\n",
        "    val = jnp.asarray(val)\n",
        "    sum = jnp.sum(val,axis=-1)\n",
        "    rows,cols = val.shape\n",
        "\n",
        "    def flatten(x):\n",
        "        return jnp.ravel(jnp.log(x[:,:-1]) + jnp.log(1.+ (1. - x[:,-1])/x[:,-1]).reshape(-1,1))\n",
        "\n",
        "\n",
        "    def unflatten(x):\n",
        "        x=x.reshape(rows,-1)\n",
        "        xm1 = jnp.exp(x)/(1+jnp.sum(jnp.exp(x),axis=-1)).reshape(-1,cols-1)\n",
        "        return jnp.c_[xm1, 1.-jnp.sum(xm1,axis=-1)]\n",
        "\n",
        "\n",
        "    return Unk(x=val, flatten=flatten, unflatten=unflatten, size_flat=val.size-rows, size_unflat=val.size, shape=(val.shape), start=None, end=None )"
      ],
      "metadata": {
        "id": "lvXLMVdkjJ2N"
      },
      "execution_count": 138,
      "outputs": []
    },
    {
      "cell_type": "code",
      "source": [
        "def dtox(d):\n",
        "    d2={}\n",
        "    d2_named_tuple = namedtuple('d2', d.keys())\n",
        "    pos=0\n",
        "    unks={}\n",
        "    consts = {}\n",
        "\n",
        "    for k,v in d.items():\n",
        "        if isinstance(v,Unk):\n",
        "            unks[k]=v._replace(start=pos, end=pos+v.size_flat )\n",
        "            pos+=v.size_flat\n",
        "        else:\n",
        "            d2[k]=v\n",
        "    \n",
        "\n",
        "    x = np.zeros(pos)\n",
        "    for k,unk in unks.items():\n",
        "        x[unk.start:unk.end]=unk.flatten(unk.x)\n",
        "\n",
        "    def xtod(x):\n",
        "        for k,unk in unks.items():\n",
        "            d2[k]=unk.unflatten(x[unk.start:unk.end])\n",
        "        return d2_named_tuple(**d2)\n",
        "\n",
        "    return np.asarray(x), xtod(x), xtod"
      ],
      "metadata": {
        "id": "5ASxlKa5kZqt"
      },
      "execution_count": 139,
      "outputs": []
    },
    {
      "cell_type": "code",
      "source": [
        "d = DotDict()\n",
        "d.a = range(5, 0., 8.)\n",
        "d.b = 6.5\n",
        "d.c = range_array([1,2,5], 0., 10.)\n",
        "d.d = comp([0.1,0.4,0.5])\n",
        "d.e = comp_array([[0.2,0.3,0.5],[0.1,0.4,0.5]])"
      ],
      "metadata": {
        "id": "yxY4HgMCvOZn"
      },
      "execution_count": 140,
      "outputs": []
    },
    {
      "cell_type": "code",
      "source": [
        "x, d2, xtod = dtox(d)"
      ],
      "metadata": {
        "id": "xqKGSPeRjl_W"
      },
      "execution_count": 141,
      "outputs": []
    },
    {
      "cell_type": "code",
      "source": [
        "jxtod=jax.jit(xtod)"
      ],
      "metadata": {
        "id": "hthBlNcg2apO"
      },
      "execution_count": 142,
      "outputs": []
    },
    {
      "cell_type": "code",
      "source": [
        "jxtod(x)"
      ],
      "metadata": {
        "colab": {
          "base_uri": "https://localhost:8080/"
        },
        "id": "CU6MvRmUtRK3",
        "outputId": "73a2b1dd-f7ad-4cbd-d3e1-4d78400a5cca"
      },
      "execution_count": 143,
      "outputs": [
        {
          "output_type": "execute_result",
          "data": {
            "text/plain": [
              "d2(a=DeviceArray(5., dtype=float32), b=DeviceArray(6.5, dtype=float32, weak_type=True), c=DeviceArray([1., 2., 5.], dtype=float32), d=DeviceArray([0.09999999, 0.4       , 0.5       ], dtype=float32), e=DeviceArray([[0.19999999, 0.3       , 0.5       ],\n",
              "             [0.09999999, 0.4       , 0.5       ]], dtype=float32))"
            ]
          },
          "metadata": {},
          "execution_count": 143
        }
      ]
    },
    {
      "cell_type": "code",
      "source": [
        ""
      ],
      "metadata": {
        "id": "tOLYXTa1xzuM"
      },
      "execution_count": 26,
      "outputs": []
    }
  ]
}