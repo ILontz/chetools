{
  "nbformat": 4,
  "nbformat_minor": 0,
  "metadata": {
    "colab": {
      "name": "FlattenWrap2.ipynb",
      "provenance": [],
      "collapsed_sections": [],
      "authorship_tag": "ABX9TyMWZU3+Hp9UdFZyQh6lLhIz",
      "include_colab_link": true
    },
    "kernelspec": {
      "name": "python3",
      "display_name": "Python 3"
    },
    "language_info": {
      "name": "python"
    }
  },
  "cells": [
    {
      "cell_type": "markdown",
      "metadata": {
        "id": "view-in-github",
        "colab_type": "text"
      },
      "source": [
        "<a href=\"https://colab.research.google.com/github/profteachkids/chetools/blob/main/FlattenWrap2.ipynb\" target=\"_parent\"><img src=\"https://colab.research.google.com/assets/colab-badge.svg\" alt=\"Open In Colab\"/></a>"
      ]
    },
    {
      "cell_type": "code",
      "execution_count": 1,
      "metadata": {
        "id": "EQTOJoLTGQgb"
      },
      "outputs": [],
      "source": [
        "from collections import namedtuple\n",
        "import numpy as np\n",
        "from scipy.special import expit,logit\n",
        "from functools import partial"
      ]
    },
    {
      "cell_type": "code",
      "source": [
        "class DotDict(dict):\n",
        "    __getattr__= dict.__getitem__\n",
        "    __setattr__ = dict.__setitem__\n",
        "    __delattr__ = dict.__delitem__"
      ],
      "metadata": {
        "id": "fbMr0sbAYbzh"
      },
      "execution_count": 2,
      "outputs": []
    },
    {
      "cell_type": "code",
      "source": [
        "class Unk():\n",
        "    pass\n",
        "\n",
        "class Range(Unk):\n",
        "    def __init__(self,value,lo,hi):\n",
        "        self.lo=lo\n",
        "        self.hi=hi\n",
        "        self.diff = hi-lo\n",
        "        self.x=value\n",
        "        self.shape=(1,)\n",
        "        self.size = 1\n",
        "        self.unflatten_size = 1\n",
        "\n",
        "    def flatten(self):\n",
        "        return np.ravel(logit((self.x-self.lo)/self.diff))\n",
        "\n",
        "    def unflatten(self,xx):\n",
        "        return expit(xx.reshape(self.shape))*self.diff +self.lo\n",
        "\n",
        "\n",
        "class RangeArray(Unk):\n",
        "    def __init__(self,value,lo,hi):\n",
        "        self.lo=np.atleast_1d(lo)\n",
        "        self.hi=np.atleast_1d(hi)\n",
        "        self.diff = self.hi-self.lo\n",
        "        value = np.atleast_1d(value)\n",
        "        self.x = value\n",
        "        self.shape = value.shape\n",
        "        self.size = value.size\n",
        "        self.unflatten_size = value.size\n",
        "\n",
        "    def flatten(self):\n",
        "        return np.ravel(logit((self.x-self.lo)/self.diff))\n",
        "\n",
        "    def unflatten(self,xx):\n",
        "        return expit(xx.reshape(self.shape))*self.diff +self.lo\n",
        "\n",
        "class Comp(Unk):\n",
        "    def __init__(self,value):\n",
        "        self.x=np.asarray(value).reshape(-1)\n",
        "        self.x=self.x/np.sum(self.x)\n",
        "        self.size=self.x.size - 1\n",
        "        self.unflatten_size = self.x.size\n",
        "\n",
        "    def __repr__(self):\n",
        "        return f'{self.x}'\n",
        "\n",
        "    def flatten(self):\n",
        "        return np.log(self.x[:-1]) + np.log(1.+ (1. - self.x[-1])/self.x[-1])\n",
        "\n",
        "\n",
        "    def unflatten(self,xx):\n",
        "        xm1 = np.exp(xx)/(1+np.sum(np.exp(xx)))\n",
        "        return np.concatenate((xm1, np.atleast_1d(1.-np.sum(xm1))))\n",
        "\n",
        "class CompArray(Unk):\n",
        "    def __init__(self,value):\n",
        "        self.x=value\n",
        "        self.x=self.x/np.sum(self.x,axis=1).reshape(-1,1)\n",
        "        self.nrows,self.ncols = self.x.shape\n",
        "        self.size=self.x.size - self.nrows\n",
        "        self.unflatten_size = self.x.size\n",
        "\n",
        "    def __repr__(self):\n",
        "        return f'{self.x}'\n",
        "\n",
        "    def flatten(self):\n",
        "        return np.ravel(np.log(self.x[:,:-1]) + np.log(1.+ (1. - self.x[:,-1])/self.x[:,-1]).reshape(-1,1))\n",
        "\n",
        "\n",
        "    def unflatten(self,xx):\n",
        "        xx=xx.reshape(self.nrows,self.ncols-1)\n",
        "        xm1 = np.exp(xx)/(1+np.sum(np.exp(xx),axis=1).reshape(-1,1))\n",
        "        return np.c_[xm1, 1.-np.sum(xm1,axis=1)]\n",
        "\n",
        "\n",
        "    \n"
      ],
      "metadata": {
        "id": "cp73yAkZcuBc"
      },
      "execution_count": 18,
      "outputs": []
    },
    {
      "cell_type": "code",
      "source": [
        "Unk_Tuple_Dict = namedtuple('Unk_Tuple_Dict', ['keys', 'start', 'end', 'unk'])\n",
        "# unk stored in x[start:end] to be unflattened into a list of keys of a dictionary\n",
        "\n",
        "Unk_Tuple_Dict_Array = namedtuple('Unk_Tuple_Dict_Array', ['key', 'array_start', 'array_end', 'unk_id'])\n",
        "# unk to be unflatten into an array stored in one key of a dictionary from position array_start to array_end\n",
        "\n",
        "\n",
        "def dtox(d):\n",
        "    d2=DotDict()\n",
        "    size=0\n",
        "    unks_dict={}\n",
        "    unks_dict_arr=[]\n",
        "\n",
        "    for k,v in d.items():\n",
        "        idv = id(v)\n",
        "        if idv in unks_dict:\n",
        "            unks_dict[idv].keys.append(k)        \n",
        "        elif isinstance(v,Unk):\n",
        "            unks_dict[idv]=Unk_Tuple_Dict([k], size, size+v.size, v)\n",
        "            size+=v.size\n",
        "        elif isinstance(v,list):\n",
        "            arr = [] # store expanded list items\n",
        "            arr_pos = 0 #keep track of position\n",
        "            for vi in v:\n",
        "                idvi = id(vi)\n",
        "                if idvi in unks_dict:\n",
        "                    unks_dict_arr.append(Unk_Tuple_Dict_Array(k, arr_pos, arr_pos+vi.unflatten_size, idvi))\n",
        "                    arr_pos+=vi.unflatten_size\n",
        "\n",
        "                if isinstance(vi,Range):\n",
        "                    arr.append(vi.x)\n",
        "                    arr_pos+=1\n",
        "                elif type(vi) in (RangeArray, Comp):\n",
        "                    arr.extend(vi.x)\n",
        "                    arr_pos+=vi.unflatten_size\n",
        "                elif type(vi) in (list,tuple):\n",
        "                    arr.extend(vi)\n",
        "                    arr_pos+=len(vi)\n",
        "                elif isinstance(vi,np.ndarray):\n",
        "                    arr.extend(vi)\n",
        "                    arr_pos+=vi.size\n",
        "                else:\n",
        "                    arr.append(vi)\n",
        "                    arr_pos+=1\n",
        "\n",
        "            d2[k]=np.array(arr)\n",
        "\n",
        "        else:\n",
        "            d2[k]=v  # constant\n",
        "    x = np.zeros(size)\n",
        "    for k,v in unks_dict.items():\n",
        "        x[v.start:v.end]= v.unk.flatten()\n",
        "            \n",
        "    def xtod(x,d2):\n",
        "        for k,v in unks_dict.items():\n",
        "            unflattened = v.unk.unflatten(x[v.start:v.end])\n",
        "            for key in v.keys:\n",
        "                d2[key]=unflattened\n",
        "\n",
        "        for uda in unks_dict_arr:\n",
        "            v = unks_dict[uda.unk_id]\n",
        "            d2[uda.key][uda.array_start:uda.array_end]=v.unk.unflatten(x[v.start:v.end])\n",
        "                \n",
        "\n",
        "        return d2\n",
        "\n",
        "    def xtodunk(x):\n",
        "        dunk={}\n",
        "        for k,v in unks_dict.items():\n",
        "            unflattened = v.unk.unflatten(x[v.start:v.end])\n",
        "            for key in v.keys:\n",
        "                dunk[key]=unflattened\n",
        "        return dunk\n",
        "\n",
        "    def wrap(f):\n",
        "        def wrapped(x,d2):\n",
        "            d2=xtod(x,d2)\n",
        "            res=f(d2)\n",
        "            return res[0] if type(res) in (tuple,list) else res\n",
        "\n",
        "        return partial(wrapped,d2=d2)\n",
        "\n",
        "    d2=xtod(x,d2)\n",
        "    return wrap, np.asarray(x), d2, xtod, xtodunk"
      ],
      "metadata": {
        "id": "w4zo9wd3Fa_s"
      },
      "execution_count": 36,
      "outputs": []
    },
    {
      "cell_type": "code",
      "source": [
        "d = DotDict()\n",
        "d.range1 = Range(10., 0., 50.)\n",
        "d.range_array = RangeArray([5., 12., 24.], 0., [10., 20., 30.])\n",
        "d.comp1 = Comp([0.1, 0.2, 0.3, 0.4])\n",
        "d.comp_array = CompArray(np.tile(np.array([0.1, 0.2, 0.7]), (4,1)))\n",
        "d.const = np.array([3., 5.])\n",
        "d.repeat = d.range_array\n",
        "d.arr1 = [d.range1, d.range_array, d.comp1, [1,2,3], (4,5), 6, np.array([7,8,9])]"
      ],
      "metadata": {
        "id": "Cnx187RsGSM5"
      },
      "execution_count": 37,
      "outputs": []
    },
    {
      "cell_type": "code",
      "source": [
        "wrap, x, d2, xtod, xtodunk = dtox(d)"
      ],
      "metadata": {
        "id": "5YsornVDId9_"
      },
      "execution_count": 38,
      "outputs": []
    },
    {
      "cell_type": "code",
      "source": [
        ""
      ],
      "metadata": {
        "colab": {
          "base_uri": "https://localhost:8080/"
        },
        "id": "5q8shF4WJKiF",
        "outputId": "9f7ccaa7-67d9-45ec-f11a-cbf4e6eff59f"
      },
      "execution_count": 39,
      "outputs": [
        {
          "output_type": "execute_result",
          "data": {
            "text/plain": [
              "{'arr1': array([10. ,  5. ,  5. , 12. , 24. ,  0.2,  0.3,  0.4,  0.1,  0.2,  0.3,\n",
              "         0.4,  5. ,  6. ,  7. ,  8. ,  9. ]),\n",
              " 'comp1': array([0.1, 0.2, 0.3, 0.4]),\n",
              " 'comp_array': array([[0.1, 0.2, 0.7],\n",
              "        [0.1, 0.2, 0.7],\n",
              "        [0.1, 0.2, 0.7],\n",
              "        [0.1, 0.2, 0.7]]),\n",
              " 'const': array([3., 5.]),\n",
              " 'range1': array([10.]),\n",
              " 'range_array': array([ 5., 12., 24.]),\n",
              " 'repeat': array([ 5., 12., 24.])}"
            ]
          },
          "metadata": {},
          "execution_count": 39
        }
      ]
    },
    {
      "cell_type": "code",
      "source": [
        "xx"
      ],
      "metadata": {
        "id": "IzJCO1EmJPSe",
        "colab": {
          "base_uri": "https://localhost:8080/",
          "height": 165
        },
        "outputId": "298391d4-a150-4767-adba-c1c21918db0b"
      },
      "execution_count": 40,
      "outputs": [
        {
          "output_type": "error",
          "ename": "NameError",
          "evalue": "ignored",
          "traceback": [
            "\u001b[0;31m---------------------------------------------------------------------------\u001b[0m",
            "\u001b[0;31mNameError\u001b[0m                                 Traceback (most recent call last)",
            "\u001b[0;32m<ipython-input-40-ce3af7760f12>\u001b[0m in \u001b[0;36m<module>\u001b[0;34m()\u001b[0m\n\u001b[0;32m----> 1\u001b[0;31m \u001b[0mxx\u001b[0m\u001b[0;34m\u001b[0m\u001b[0;34m\u001b[0m\u001b[0m\n\u001b[0m",
            "\u001b[0;31mNameError\u001b[0m: name 'xx' is not defined"
          ]
        }
      ]
    },
    {
      "cell_type": "code",
      "source": [
        "x"
      ],
      "metadata": {
        "colab": {
          "base_uri": "https://localhost:8080/"
        },
        "id": "bih-rVGheEPa",
        "outputId": "7fbf8aee-65a6-4051-8d5c-c93f96ef2b58"
      },
      "execution_count": 41,
      "outputs": [
        {
          "output_type": "execute_result",
          "data": {
            "text/plain": [
              "array([-1.38629436,  0.        ,  0.40546511,  1.38629436, -1.38629436,\n",
              "       -0.69314718, -0.28768207, -1.94591015, -1.25276297, -1.94591015,\n",
              "       -1.25276297, -1.94591015, -1.25276297, -1.94591015, -1.25276297])"
            ]
          },
          "metadata": {},
          "execution_count": 41
        }
      ]
    },
    {
      "cell_type": "code",
      "source": [
        ""
      ],
      "metadata": {
        "id": "mEwVi6Oaj3M_"
      },
      "execution_count": null,
      "outputs": []
    }
  ]
}